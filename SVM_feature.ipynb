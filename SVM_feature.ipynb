{
 "cells": [
  {
   "cell_type": "code",
   "execution_count": 3,
   "outputs": [
    {
     "name": "stdout",
     "output_type": "stream",
     "text": [
      "Requirement already satisfied: opencv-python in /Users/fanliaoyuan/miniconda3/lib/python3.11/site-packages (4.8.1.78)\r\n",
      "Requirement already satisfied: numpy>=1.21.2 in /Users/fanliaoyuan/miniconda3/lib/python3.11/site-packages (from opencv-python) (1.24.1)\r\n"
     ]
    }
   ],
   "source": [
    "!pip3 install opencv-python"
   ],
   "metadata": {
    "collapsed": false,
    "ExecuteTime": {
     "end_time": "2023-11-10T17:51:26.722791Z",
     "start_time": "2023-11-10T17:51:26.045679Z"
    }
   }
  },
  {
   "cell_type": "code",
   "execution_count": 1,
   "metadata": {
    "collapsed": true,
    "ExecuteTime": {
     "end_time": "2023-11-10T17:49:40.681905Z",
     "start_time": "2023-11-10T17:49:40.555837Z"
    }
   },
   "outputs": [
    {
     "ename": "ModuleNotFoundError",
     "evalue": "No module named 'cv2'",
     "output_type": "error",
     "traceback": [
      "\u001B[0;31m---------------------------------------------------------------------------\u001B[0m",
      "\u001B[0;31mModuleNotFoundError\u001B[0m                       Traceback (most recent call last)",
      "Cell \u001B[0;32mIn[1], line 1\u001B[0m\n\u001B[0;32m----> 1\u001B[0m \u001B[38;5;28;01mimport\u001B[39;00m \u001B[38;5;21;01mcv2\u001B[39;00m\n\u001B[1;32m      2\u001B[0m \u001B[38;5;28;01mimport\u001B[39;00m \u001B[38;5;21;01mnumpy\u001B[39;00m \u001B[38;5;28;01mas\u001B[39;00m \u001B[38;5;21;01mnp\u001B[39;00m\n\u001B[1;32m      3\u001B[0m \u001B[38;5;28;01mfrom\u001B[39;00m \u001B[38;5;21;01msklearn\u001B[39;00m \u001B[38;5;28;01mimport\u001B[39;00m svm\n",
      "\u001B[0;31mModuleNotFoundError\u001B[0m: No module named 'cv2'"
     ]
    }
   ],
   "source": [
    " import cv2\n",
    "import numpy as np\n",
    "from sklearn import svm\n",
    "from sklearn.model_selection import train_test_split\n",
    "from sklearn.metrics import accuracy_score\n",
    "from torchvision import datasets, transforms\n",
    "from sklearn.cluster import MiniBatchKMeans\n",
    "import tqdm"
   ]
  },
  {
   "cell_type": "code",
   "execution_count": null,
   "outputs": [],
   "source": [
    "\n",
    "# 加载Caltech101数据集\n",
    "transform = transforms.Compose([transforms.Resize((150, 150)), transforms.ToTensor()])\n",
    "caltech101 = datasets.Caltech101('path_to_save_caltech101', download=True, transform=transform)"
   ],
   "metadata": {
    "collapsed": false
   }
  },
  {
   "cell_type": "code",
   "execution_count": null,
   "outputs": [],
   "source": [
    "\n",
    "# 提取SIFT特征\n",
    "def extract_sift_features(image):\n",
    "    sift = cv2.SIFT_create()\n",
    "    gray = cv2.cvtColor(np.array(image), cv2.COLOR_RGB2GRAY)\n",
    "    kp, des = sift.detectAndCompute(gray, None)\n",
    "    return des if des is not None else []\n",
    "\n",
    "descriptors = [extract_sift_features(img) for img, _ in caltech101]\n",
    "all_descriptors = np.vstack([d for d in descriptors if len(d) > 0])"
   ],
   "metadata": {
    "collapsed": false
   }
  },
  {
   "cell_type": "code",
   "execution_count": null,
   "outputs": [],
   "source": [
    "\n",
    "# 使用K-means创建视觉词袋\n",
    "k = 2048\n",
    "kmeans = MiniBatchKMeans(n_clusters=k, random_state=0).fit(all_descriptors)\n",
    "\n",
    "# 为每个图像构建直方图\n",
    "def build_histogram(descriptor, cluster_alg):\n",
    "    histogram = np.zeros(len(cluster_alg.cluster_centers_))\n",
    "    for d in descriptor:\n",
    "        idx = cluster_alg.predict([d])\n",
    "        histogram[idx] += 1\n",
    "    return histogram\n",
    "\n",
    "image_histograms = [build_histogram(d, kmeans) for d in descriptors]"
   ],
   "metadata": {
    "collapsed": false
   }
  },
  {
   "cell_type": "code",
   "execution_count": null,
   "outputs": [],
   "source": [
    "\n",
    "# 划分数据集\n",
    "labels = [label for _, label in caltech101]\n",
    "X_train, X_test, y_train, y_test = train_test_split(image_histograms, labels, test_size=0.2)\n",
    "\n",
    "# 训练SVM\n",
    "svms = []\n",
    "for i in tqdm(range(101), desc=\"Training SVMs\"):  # 假设有101个类别\n",
    "    y_train_binary = (np.array(y_train) == i).astype(int)\n",
    "    y_test_binary = (np.array(y_test) == i).astype(int)\n",
    "\n",
    "    clf = svm.SVC(kernel='linear')\n",
    "    clf.fit(X_train, y_train_binary)\n",
    "\n",
    "    y_pred = clf.predict(X_test)\n",
    "    print(f'Class {i} accuracy: {accuracy_score(y_test_binary, y_pred)}')\n",
    "\n",
    "    svms.append(clf)"
   ],
   "metadata": {
    "collapsed": false
   }
  }
 ],
 "metadata": {
  "kernelspec": {
   "display_name": "Python 3",
   "language": "python",
   "name": "python3"
  },
  "language_info": {
   "codemirror_mode": {
    "name": "ipython",
    "version": 2
   },
   "file_extension": ".py",
   "mimetype": "text/x-python",
   "name": "python",
   "nbconvert_exporter": "python",
   "pygments_lexer": "ipython2",
   "version": "2.7.6"
  }
 },
 "nbformat": 4,
 "nbformat_minor": 0
}
